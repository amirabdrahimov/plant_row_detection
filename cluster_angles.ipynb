{
 "cells": [
  {
   "cell_type": "code",
   "execution_count": 3,
   "metadata": {},
   "outputs": [],
   "source": [
    "import numpy as np\n",
    "import json\n",
    "from sklearn.cluster import KMeans\n",
    "\n",
    "\n",
    "# Function to read labels from JSON\n",
    "def get_labels_from_json(json_file_path, resized_image_size):\n",
    "    # Opening JSON file\n",
    "    f = open(json_file_path)\n",
    "    data = json.load(f)\n",
    "    f.close()\n",
    "\n",
    "    ori_img_height = data['height']\n",
    "    ori_img_width = data['width']\n",
    "\n",
    "    bbox_label = []\n",
    "    angles = []\n",
    "    for i in range(data['nb_of_plants_rows']):\n",
    "        #print(data[f'row_{i}']['xmin'])\n",
    "        x_min = data[f'row_{i}']['xmin']\n",
    "        y_min = data[f'row_{i}']['ymin']\n",
    "        x_max = data[f'row_{i}']['xmax']\n",
    "        y_max = data[f'row_{i}']['ymax']\n",
    "        angle = data[f'row_{i}']['angle']\n",
    "        \n",
    "        if x_min > x_max:\n",
    "            x_min, x_max = x_max, x_min\n",
    "            \n",
    "        #In order to find the resized coordinates, we must multiply the ratio of the resized image compared to its original to the coordinates.\n",
    "        x_min = float((resized_image_size/ori_img_width)*x_min)\n",
    "        y_min = float((resized_image_size/ori_img_height)*y_min)\n",
    "        x_max = float((resized_image_size/ori_img_width)*x_max)\n",
    "        y_max = float((resized_image_size/ori_img_height)*y_max)\n",
    "\n",
    "        generated_box_info = [x_min, y_min, x_max, y_max]\n",
    "\n",
    "        #append each object's class label and the bounding box label (converted to Faster R-CNN format) into the list initialized earlier.\n",
    "        bbox_label.append(np.asarray(generated_box_info, dtype='float32'))\n",
    "        angles.append(angle)\n",
    "\n",
    "\n",
    "    return np.asarray(bbox_label), angles\n",
    "\n"
   ]
  },
  {
   "cell_type": "code",
   "execution_count": 4,
   "metadata": {},
   "outputs": [],
   "source": [
    "# Divide angles of rows in three groups depending on the cell that they belong to\n",
    "\n",
    "bboxes = []\n",
    "cells_with_angles = [[],[],[]]\n",
    "for i in range(50):\n",
    "    data, angles = get_labels_from_json(f'/Users/amir/Desktop/plant_row_detection/BINARY_PLANTS/labels/sample_{i}.json',300)\n",
    "    bboxes.append(data)\n",
    "    for j in range(len(data)):\n",
    "        if data[j][0] < 100:\n",
    "            cells_with_angles[0].append(angles[j])\n",
    "        elif data[j][0] >= 200:\n",
    "            cells_with_angles[2].append(angles[j])\n",
    "        else:\n",
    "            cells_with_angles[1].append(angles[j])"
   ]
  },
  {
   "cell_type": "code",
   "execution_count": 5,
   "metadata": {},
   "outputs": [],
   "source": [
    "# Function to restore anchor box size from the given angle\n",
    "def get_anchor_box_size(image_height, angle):\n",
    "    AB = image_height - 1 \n",
    "    BC = AB * np.tan(np.radians(np.abs(angle)))\n",
    "    \n",
    "    return (BC,image_height)"
   ]
  },
  {
   "cell_type": "code",
   "execution_count": 14,
   "metadata": {},
   "outputs": [
    {
     "name": "stdout",
     "output_type": "stream",
     "text": [
      "Centroids of each group:\n",
      "Group 1 centroid: 13.833333333333336\n",
      "(73.62591614629048, 300)\n",
      "Group 2 centroid: 2.7272727272727284\n",
      "(14.243125461420604, 300)\n",
      "Group 3 centroid: 20.923076923076927\n",
      "(114.31500698975555, 300)\n",
      "Group 4 centroid: 8.111111111111114\n",
      "(42.613161461881, 300)\n"
     ]
    }
   ],
   "source": [
    "# Get centroids for angles of the first cell\n",
    "data_2d = np.array(cells_with_angles[0]).reshape(-1, 1)\n",
    "kmeans = KMeans(n_clusters=4, random_state=0).fit(data_2d)\n",
    "centroids = kmeans.cluster_centers_\n",
    "\n",
    "# Print the centroids\n",
    "print(\"Centroids of each group:\")\n",
    "for i, centroid in enumerate(centroids):\n",
    "    print(f\"Group {i+1} centroid: {centroid[0]}\")\n",
    "    print(get_anchor_box_size(300,centroid[0]))\n"
   ]
  },
  {
   "cell_type": "code",
   "execution_count": 15,
   "metadata": {},
   "outputs": [
    {
     "name": "stdout",
     "output_type": "stream",
     "text": [
      "Centroids of each group:\n",
      "Group 1 centroid: -2.145833333333332\n",
      "(11.203343784676777, 300)\n",
      "Group 2 centroid: -17.90909090909091\n",
      "(96.62676173785495, 300)\n",
      "Group 3 centroid: -10.6875\n",
      "(56.42907866051493, 300)\n",
      "Group 4 centroid: 4.363636363636366\n",
      "(22.815917012095873, 300)\n"
     ]
    }
   ],
   "source": [
    "# Get centroids for angles of the second cell\n",
    "data_2d = np.array(cells_with_angles[1]).reshape(-1, 1)\n",
    "kmeans = KMeans(n_clusters=4, random_state=0).fit(data_2d)\n",
    "centroids = kmeans.cluster_centers_\n",
    "\n",
    "# Print the centroids\n",
    "print(\"Centroids of each group:\")\n",
    "for i, centroid in enumerate(centroids):\n",
    "    print(f\"Group {i+1} centroid: {centroid[0]}\")\n",
    "    print(get_anchor_box_size(300,centroid[0]))"
   ]
  },
  {
   "cell_type": "code",
   "execution_count": 16,
   "metadata": {},
   "outputs": [
    {
     "name": "stdout",
     "output_type": "stream",
     "text": [
      "Centroids of each group:\n",
      "Group 1 centroid: -10.583333333333334\n",
      "(55.86631221021648, 300)\n",
      "Group 2 centroid: -5.833333333333334\n",
      "(30.547068787658652, 300)\n",
      "Group 3 centroid: -14.25\n",
      "(75.93632629600816, 300)\n",
      "Group 4 centroid: -1.0\n",
      "(5.219064413537058, 300)\n"
     ]
    }
   ],
   "source": [
    "# Get centroids for angles of the third cell\n",
    "data_2d = np.array(cells_with_angles[2]).reshape(-1, 1)\n",
    "kmeans = KMeans(n_clusters=4, random_state=0).fit(data_2d)\n",
    "centroids = kmeans.cluster_centers_\n",
    "\n",
    "# Print the centroids\n",
    "print(\"Centroids of each group:\")\n",
    "for i, centroid in enumerate(centroids):\n",
    "    print(f\"Group {i+1} centroid: {centroid[0]}\")\n",
    "    print(get_anchor_box_size(300,centroid[0]))"
   ]
  },
  {
   "cell_type": "markdown",
   "metadata": {},
   "source": [
    "### Score to evaluate the model (Overlap Score and Fitness score)"
   ]
  },
  {
   "cell_type": "code",
   "execution_count": 4,
   "metadata": {},
   "outputs": [],
   "source": [
    "import cv2 as cv\n",
    "import numpy as np"
   ]
  },
  {
   "cell_type": "code",
   "execution_count": 107,
   "metadata": {},
   "outputs": [],
   "source": [
    "def get_bbox_values(image_height, image_width, xmin, ymin, xmax, ymax, plant_size):\n",
    "    img = np.zeros((image_height, image_width), np.uint8)\n",
    "    cv.line(img, (xmin, ymin), (xmax, ymax), 255, plant_size)\n",
    "    bbox_values = np.where(img != 0)\n",
    "    bbox_coordinates = np.array(list(zip(bbox_values[1], bbox_values[0])))\n",
    "    return bbox_coordinates\n",
    "\n",
    "\n",
    "def get_angle(xmin,ymin,xmax,ymax):\n",
    "    a = np.array([xmin, ymax])\n",
    "    b = np.array([xmin, ymin])\n",
    "    c = np.array([xmax, ymax])\n",
    "    ba = a - b\n",
    "    bc = c - b\n",
    "    cosine_angle = np.dot(ba, bc) / (np.linalg.norm(ba) * np.linalg.norm(bc))\n",
    "    angle = np.arccos(cosine_angle)\n",
    "    if xmin > xmax:\n",
    "        return -np.degrees(angle)\n",
    "    else:\n",
    "        return np.degrees(angle)"
   ]
  },
  {
   "cell_type": "code",
   "execution_count": 164,
   "metadata": {},
   "outputs": [],
   "source": [
    "def overlap_score(bbox_gt_coordinates, bbox_pred_coordinates):\n",
    "  len_intersection = len(np.array([x for x in set(tuple(x) for x in bbox_gt_coordinates) & set(tuple(x) for x in bbox_pred_coordinates)]))\n",
    "  return len_intersection / len(bbox_gt_coordinates)\n",
    "\n",
    "def fitness_score(angle_gt, angle_pred):\n",
    "  return 1 - (np.abs(angle_gt - angle_pred) / 180)\n",
    "\n",
    "def composite_score(alpha, overlap_score, fitness_score):\n",
    "  return alpha * overlap_score + (1 - alpha) * fitness_score"
   ]
  },
  {
   "cell_type": "code",
   "execution_count": 155,
   "metadata": {},
   "outputs": [],
   "source": [
    "image_height = 300\n",
    "image_width = 300\n",
    "xmin = 100\n",
    "ymin = 0\n",
    "xmax = 100\n",
    "ymax = 300\n",
    "plant_size = 25"
   ]
  },
  {
   "cell_type": "code",
   "execution_count": 165,
   "metadata": {},
   "outputs": [],
   "source": [
    "bbox_gt_coordinates = get_bbox_values(image_height, image_width, xmin, ymin, xmax, ymax, plant_size)\n",
    "bbox_pred_coordinates = get_bbox_values(300, 300, 101, 0, 101, 300, 25)\n",
    "\n",
    "angle_gt = get_angle(xmin, ymin, xmax, ymax)\n",
    "angle_pred = get_angle(101, 0, 101, 300)"
   ]
  },
  {
   "cell_type": "code",
   "execution_count": 166,
   "metadata": {},
   "outputs": [
    {
     "name": "stdout",
     "output_type": "stream",
     "text": [
      "Overlap score: 0.9629629629629629\n",
      "Fitness score: 1.0\n",
      "Composite score score: 0.9814814814814814\n"
     ]
    }
   ],
   "source": [
    "o_score = overlap_score(bbox_gt_coordinates, bbox_pred_coordinates)\n",
    "print(f\"Overlap score: {o_score}\")\n",
    "\n",
    "f_score = fitness_score(angle_gt, angle_pred)\n",
    "print(f\"Fitness score: {f_score}\")\n",
    "\n",
    "comp_score = composite_score(0.5, o_score, f_score)\n",
    "print(f\"Composite score score: {comp_score}\")"
   ]
  },
  {
   "cell_type": "code",
   "execution_count": null,
   "metadata": {},
   "outputs": [],
   "source": []
  }
 ],
 "metadata": {
  "kernelspec": {
   "display_name": "plant_row",
   "language": "python",
   "name": "python3"
  },
  "language_info": {
   "codemirror_mode": {
    "name": "ipython",
    "version": 3
   },
   "file_extension": ".py",
   "mimetype": "text/x-python",
   "name": "python",
   "nbconvert_exporter": "python",
   "pygments_lexer": "ipython3",
   "version": "3.12.1"
  }
 },
 "nbformat": 4,
 "nbformat_minor": 2
}
