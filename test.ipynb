{
 "cells": [
  {
   "cell_type": "code",
   "execution_count": 1,
   "metadata": {},
   "outputs": [],
   "source": [
    "import glob"
   ]
  },
  {
   "cell_type": "code",
   "execution_count": 8,
   "metadata": {},
   "outputs": [],
   "source": [
    "data_annotation_path = '../BINARY_PLANTS/labels'"
   ]
  },
  {
   "cell_type": "code",
   "execution_count": 9,
   "metadata": {},
   "outputs": [],
   "source": [
    "list_annotations = sorted([x for x in glob.glob(data_annotation_path + '/**')])"
   ]
  },
  {
   "cell_type": "code",
   "execution_count": 10,
   "metadata": {},
   "outputs": [
    {
     "data": {
      "text/plain": [
       "['../BINARY_PLANTS/labels/sample_0.json',\n",
       " '../BINARY_PLANTS/labels/sample_1.json',\n",
       " '../BINARY_PLANTS/labels/sample_10.json',\n",
       " '../BINARY_PLANTS/labels/sample_11.json',\n",
       " '../BINARY_PLANTS/labels/sample_12.json',\n",
       " '../BINARY_PLANTS/labels/sample_13.json',\n",
       " '../BINARY_PLANTS/labels/sample_14.json',\n",
       " '../BINARY_PLANTS/labels/sample_15.json',\n",
       " '../BINARY_PLANTS/labels/sample_16.json',\n",
       " '../BINARY_PLANTS/labels/sample_17.json',\n",
       " '../BINARY_PLANTS/labels/sample_18.json',\n",
       " '../BINARY_PLANTS/labels/sample_19.json',\n",
       " '../BINARY_PLANTS/labels/sample_2.json',\n",
       " '../BINARY_PLANTS/labels/sample_20.json',\n",
       " '../BINARY_PLANTS/labels/sample_21.json',\n",
       " '../BINARY_PLANTS/labels/sample_22.json',\n",
       " '../BINARY_PLANTS/labels/sample_23.json',\n",
       " '../BINARY_PLANTS/labels/sample_24.json',\n",
       " '../BINARY_PLANTS/labels/sample_25.json',\n",
       " '../BINARY_PLANTS/labels/sample_26.json',\n",
       " '../BINARY_PLANTS/labels/sample_27.json',\n",
       " '../BINARY_PLANTS/labels/sample_28.json',\n",
       " '../BINARY_PLANTS/labels/sample_29.json',\n",
       " '../BINARY_PLANTS/labels/sample_3.json',\n",
       " '../BINARY_PLANTS/labels/sample_30.json',\n",
       " '../BINARY_PLANTS/labels/sample_31.json',\n",
       " '../BINARY_PLANTS/labels/sample_32.json',\n",
       " '../BINARY_PLANTS/labels/sample_33.json',\n",
       " '../BINARY_PLANTS/labels/sample_34.json',\n",
       " '../BINARY_PLANTS/labels/sample_35.json',\n",
       " '../BINARY_PLANTS/labels/sample_36.json',\n",
       " '../BINARY_PLANTS/labels/sample_37.json',\n",
       " '../BINARY_PLANTS/labels/sample_38.json',\n",
       " '../BINARY_PLANTS/labels/sample_39.json',\n",
       " '../BINARY_PLANTS/labels/sample_4.json',\n",
       " '../BINARY_PLANTS/labels/sample_40.json',\n",
       " '../BINARY_PLANTS/labels/sample_41.json',\n",
       " '../BINARY_PLANTS/labels/sample_42.json',\n",
       " '../BINARY_PLANTS/labels/sample_43.json',\n",
       " '../BINARY_PLANTS/labels/sample_44.json',\n",
       " '../BINARY_PLANTS/labels/sample_45.json',\n",
       " '../BINARY_PLANTS/labels/sample_46.json',\n",
       " '../BINARY_PLANTS/labels/sample_47.json',\n",
       " '../BINARY_PLANTS/labels/sample_48.json',\n",
       " '../BINARY_PLANTS/labels/sample_49.json',\n",
       " '../BINARY_PLANTS/labels/sample_5.json',\n",
       " '../BINARY_PLANTS/labels/sample_6.json',\n",
       " '../BINARY_PLANTS/labels/sample_7.json',\n",
       " '../BINARY_PLANTS/labels/sample_8.json',\n",
       " '../BINARY_PLANTS/labels/sample_9.json']"
      ]
     },
     "execution_count": 10,
     "metadata": {},
     "output_type": "execute_result"
    }
   ],
   "source": [
    "list_annotations"
   ]
  },
  {
   "cell_type": "code",
   "execution_count": 30,
   "metadata": {},
   "outputs": [],
   "source": [
    "import json\n",
    "import numpy as np"
   ]
  },
  {
   "cell_type": "code",
   "execution_count": 62,
   "metadata": {},
   "outputs": [],
   "source": [
    "def get_labels_from_json(json_file_path, resized_image_size):\n",
    "    # Opening JSON file\n",
    "    f = open(json_file_path)\n",
    "    data = json.load(f)\n",
    "    f.close()\n",
    "\n",
    "    ori_img_height = data['height']\n",
    "    ori_img_width = data['width']\n",
    "\n",
    "    bbox_label = []\n",
    "    for i in range(data['nb_of_plants_rows']):\n",
    "        x_min = data[f'row_{i}']['xmin']\n",
    "        y_min = data[f'row_{i}']['ymin']\n",
    "        x_max = data[f'row_{i}']['xmax']\n",
    "        y_max = data[f'row_{i}']['ymax']\n",
    "        \n",
    "        if x_min > x_max:\n",
    "            x_min, x_max = x_max, x_min\n",
    "\n",
    "        #In order to find the resized coordinates, we must multiply the ratio of the resized image compared to its original to the coordinates.\n",
    "        x_min = float((resized_image_size/ori_img_width)*x_min)\n",
    "        y_min = float((resized_image_size/ori_img_height)*y_min)\n",
    "        x_max = float((resized_image_size/ori_img_width)*x_max)\n",
    "        y_max = float((resized_image_size/ori_img_height)*y_max)\n",
    "\n",
    "        generated_box_info = [x_min, y_min, x_max, y_max]\n",
    "\n",
    "        #append each object's class label and the bounding box label (converted to Faster R-CNN format) into the list initialized earlier.\n",
    "        bbox_label.append(np.asarray(generated_box_info, dtype='float32'))\n",
    "\n",
    "\n",
    "    return np.asarray(bbox_label)"
   ]
  },
  {
   "cell_type": "code",
   "execution_count": 68,
   "metadata": {},
   "outputs": [
    {
     "data": {
      "text/plain": [
       "array([[ 30.72   ,   0.     , 131.41333, 510.29333],\n",
       "       [225.28   ,   0.     , 245.76   , 510.29333],\n",
       "       [322.56   ,   0.     , 460.8    , 510.29333]], dtype=float32)"
      ]
     },
     "execution_count": 68,
     "metadata": {},
     "output_type": "execute_result"
    }
   ],
   "source": [
    "get_labels_from_json(f'/Users/amir/Desktop/plant_row_detection/generate_image/data/labels/sample_{3}.json',512)"
   ]
  },
  {
   "cell_type": "code",
   "execution_count": null,
   "metadata": {},
   "outputs": [],
   "source": []
  },
  {
   "cell_type": "code",
   "execution_count": 69,
   "metadata": {},
   "outputs": [],
   "source": [
    "bboxes = []\n",
    "for i in range(50):\n",
    "    data = get_labels_from_json(f'/Users/amir/Desktop/plant_row_detection/BINARY_PLANTS/labels/sample_{i}.json',480)\n",
    "    bboxes.append(data)\n"
   ]
  },
  {
   "cell_type": "code",
   "execution_count": 70,
   "metadata": {},
   "outputs": [
    {
     "data": {
      "text/plain": [
       "[array([[ 28.8,   0. , 185.6, 478.4],\n",
       "        [180.8,   0. , 273.6, 478.4],\n",
       "        [256. ,   0. , 433.6, 478.4],\n",
       "        [331.2,   0. , 520. , 284.8]], dtype=float32),\n",
       " array([[-49.6,   0. , 232. , 478.4],\n",
       "        [188.8,   0. , 307.2, 478.4],\n",
       "        [300.8,   0. , 532.8, 457.6]], dtype=float32),\n",
       " array([[-48. ,   0. , 139.2, 406.4],\n",
       "        [150.4,   0. , 270.4, 478.4],\n",
       "        [243.2,   0. , 510.4, 478.4]], dtype=float32),\n",
       " array([[  3.2,   0. , 172.8, 478.4],\n",
       "        [123.2,   0. , 235.2, 478.4],\n",
       "        [216. ,   0. , 321.6, 478.4],\n",
       "        [276.8,   0. , 441.6, 478.4],\n",
       "        [339.2,   0. , 516.8, 329.6]], dtype=float32),\n",
       " array([[-41.6,   0. , 110.4, 273.6],\n",
       "        [ 24. ,   0. , 166.4, 478.4],\n",
       "        [140.8,   0. , 228.8, 478.4],\n",
       "        [196.8,   0. , 348.8, 478.4],\n",
       "        [252.8,   0. , 468.8, 478.4]], dtype=float32),\n",
       " array([[-19.2,   0. , 262.4, 478.4],\n",
       "        [139.2,   0. , 316.8, 478.4],\n",
       "        [288. ,   0. , 406.4, 478.4],\n",
       "        [342.4,   0. , 531.2, 350.4]], dtype=float32),\n",
       " array([[-28.8,   0. , 132.8, 478.4],\n",
       "        [185.6,   0. , 281.6, 478.4],\n",
       "        [320. ,   0. , 513.6, 449.6]], dtype=float32),\n",
       " array([[-56. ,   0. , 212.8, 385.6],\n",
       "        [ 60.8,   0. , 257.6, 478.4],\n",
       "        [220.8,   0. , 334.4, 478.4],\n",
       "        [267.2,   0. , 494.4, 478.4]], dtype=float32),\n",
       " array([[-20.8,   0. , 168. , 478.4],\n",
       "        [ 97.6,   0. , 214.4, 478.4],\n",
       "        [180.8,   0. , 315.2, 478.4],\n",
       "        [228.8,   0. , 435.2, 478.4],\n",
       "        [275.2,   0. , 526.4, 408. ]], dtype=float32),\n",
       " array([[-46.4,   0. , 190.4, 321.6],\n",
       "        [118.4,   0. , 289.6, 478.4],\n",
       "        [307.2,   0. , 452.8, 478.4]], dtype=float32),\n",
       " array([[-38.4,   0. , 121.6, 428.8],\n",
       "        [110.4,   0. , 203.2, 478.4],\n",
       "        [203.2,   0. , 348.8, 478.4],\n",
       "        [283.2,   0. , 508.8, 478.4]], dtype=float32),\n",
       " array([[  6.4,   0. , 153.6, 478.4],\n",
       "        [208. ,   0. , 315.2, 478.4],\n",
       "        [344. ,   0. , 512. , 329.6]], dtype=float32),\n",
       " array([[ -3.2,   0. , 153.6, 478.4],\n",
       "        [115.2,   0. , 206.4, 478.4],\n",
       "        [176. ,   0. , 326.4, 478.4],\n",
       "        [228.8,   0. , 446.4, 478.4],\n",
       "        [280. ,   0. , 523.2, 376. ]], dtype=float32),\n",
       " array([[-48. ,   0. , 232. , 478.4],\n",
       "        [110.4,   0. , 291.2, 478.4],\n",
       "        [268.8,   0. , 371.2, 478.4],\n",
       "        [328. ,   0. , 528. , 465.6]], dtype=float32),\n",
       " array([[-28.8,   0. , 232. , 478.4],\n",
       "        [129.6,   0. , 286.4, 478.4],\n",
       "        [259.2,   0. , 396.8, 478.4],\n",
       "        [313.6,   0. , 531.2, 398.4]], dtype=float32),\n",
       " array([[-14.4,   0. , 164.8, 478.4],\n",
       "        [144. ,   0. , 240. , 478.4],\n",
       "        [233.6,   0. , 388.8, 478.4],\n",
       "        [308.8,   0. , 520. , 392. ]], dtype=float32),\n",
       " array([[-38.4,   0. , 179.2, 443.2],\n",
       "        [108.8,   0. , 262.4, 478.4],\n",
       "        [264. ,   0. , 347.2, 478.4],\n",
       "        [345.6,   0. , 507.2, 478.4]], dtype=float32),\n",
       " array([[ -9.6,   0. , 260.8, 478.4],\n",
       "        [228.8,   0. , 340.8, 478.4],\n",
       "        [337.6,   0. , 531.2, 331.2]], dtype=float32),\n",
       " array([[-49.6,   0. , 158.4, 398.4],\n",
       "        [ 84.8,   0. , 219.2, 478.4],\n",
       "        [196.8,   0. , 345.6, 478.4],\n",
       "        [257.6,   0. , 505.6, 478.4]], dtype=float32),\n",
       " array([[-41.6,   0. , 168. , 435.2],\n",
       "        [184. ,   0. , 281.6, 478.4],\n",
       "        [315.2,   0. , 508.8, 478.4]], dtype=float32),\n",
       " array([[-46.4,   0. , 176. , 452.8],\n",
       "        [104. ,   0. , 241.6, 478.4],\n",
       "        [224. ,   0. , 358.4, 478.4],\n",
       "        [289.6,   0. , 518.4, 478.4]], dtype=float32),\n",
       " array([[ -9.6,   0. , 182.4, 478.4],\n",
       "        [148.8,   0. , 262.4, 478.4],\n",
       "        [259.2,   0. , 390.4, 478.4],\n",
       "        [337.6,   0. , 518.4, 363.2]], dtype=float32),\n",
       " array([[-16. ,   0. , 172.8, 478.4],\n",
       "        [222.4,   0. , 304. , 478.4],\n",
       "        [352. ,   0. , 513.6, 385.6]], dtype=float32),\n",
       " array([[-33.6,   0. , 160. , 460.8],\n",
       "        [120. ,   0. , 251.2, 478.4],\n",
       "        [259.2,   0. , 348.8, 478.4],\n",
       "        [350.4,   0. , 508.8, 478.4]], dtype=float32),\n",
       " array([[-59.2,   0. , 190.4, 395.2],\n",
       "        [147.2,   0. , 252.8, 478.4],\n",
       "        [233.6,   0. , 507.2, 478.4]], dtype=float32),\n",
       " array([[-46.4,   0. , 152. , 414.4],\n",
       "        [ 94.4,   0. , 219.2, 478.4],\n",
       "        [204.8,   0. , 348.8, 478.4],\n",
       "        [272. ,   0. , 508.8, 478.4]], dtype=float32),\n",
       " array([[ 30.4,   0. , 176. , 478.4],\n",
       "        [150.4,   0. , 238.4, 478.4],\n",
       "        [217.6,   0. , 348.8, 478.4],\n",
       "        [280. ,   0. , 468.8, 478.4],\n",
       "        [340.8,   0. , 516.8, 276.8]], dtype=float32),\n",
       " array([[-51.2,   0. , 190.4, 336. ],\n",
       "        [ 43.2,   0. , 248. , 478.4],\n",
       "        [203.2,   0. , 305.6, 478.4],\n",
       "        [281.6,   0. , 467.2, 478.4]], dtype=float32),\n",
       " array([[-38.4,   0. , 113.6, 244.8],\n",
       "        [ 49.6,   0. , 193.6, 478.4],\n",
       "        [193.6,   0. , 288. , 478.4],\n",
       "        [273.6,   0. , 448. , 478.4]], dtype=float32),\n",
       " array([[-25.6,   0. , 244.8, 478.4],\n",
       "        [212.8,   0. , 332.8, 478.4],\n",
       "        [337.6,   0. , 528. , 382.4]], dtype=float32),\n",
       " array([[-44.8,   0. , 110.4, 228.8],\n",
       "        [ -1.6,   0. , 160. , 478.4],\n",
       "        [116.8,   0. , 211.2, 478.4],\n",
       "        [180.8,   0. , 328. , 478.4],\n",
       "        [232. ,   0. , 448. , 478.4]], dtype=float32),\n",
       " array([[ 28.8,   0. , 208. , 478.4],\n",
       "        [222.4,   0. , 363.2, 478.4],\n",
       "        [320. ,   0. , 524.8, 288. ]], dtype=float32),\n",
       " array([[ 27.2,   0. , 214.4, 478.4],\n",
       "        [187.2,   0. , 305.6, 478.4],\n",
       "        [313.6,   0. , 416. , 478.4],\n",
       "        [404.8,   0. , 512. , 164.8]], dtype=float32),\n",
       " array([[ 12.8,   0. , 190.4, 478.4],\n",
       "        [172.8,   0. , 276.8, 478.4],\n",
       "        [280. ,   0. , 408. , 478.4],\n",
       "        [366.4,   0. , 515.2, 276.8]], dtype=float32),\n",
       " array([[-51.2,   0. , 206.4, 401.6],\n",
       "        [ 75.2,   0. , 264. , 478.4],\n",
       "        [238.4,   0. , 339.2, 478.4],\n",
       "        [296. ,   0. , 499.2, 478.4]], dtype=float32),\n",
       " array([[-40. ,   0. , 153.6, 472. ],\n",
       "        [188.8,   0. , 278.4, 478.4],\n",
       "        [305.6,   0. , 518.4, 478.4]], dtype=float32),\n",
       " array([[-44.8,   0. , 137.6, 265.6],\n",
       "        [115.2,   0. , 240. , 478.4],\n",
       "        [262.4,   0. , 446.4, 478.4]], dtype=float32),\n",
       " array([[-24. ,   0. , 200. , 478.4],\n",
       "        [180.8,   0. , 331.2, 478.4],\n",
       "        [244.8,   0. , 536. , 404.8]], dtype=float32),\n",
       " array([[ 12.8,   0. , 214.4, 478.4],\n",
       "        [172.8,   0. , 286.4, 478.4],\n",
       "        [276.8,   0. , 420.8, 478.4],\n",
       "        [347.2,   0. , 521.6, 291.2]], dtype=float32),\n",
       " array([[-46.4,   0. , 179.2, 339.2],\n",
       "        [ 14.4,   0. , 230.4, 478.4],\n",
       "        [134.4,   0. , 280. , 478.4],\n",
       "        [248. ,   0. , 348.8, 478.4],\n",
       "        [299.2,   0. , 468.8, 478.4]], dtype=float32),\n",
       " array([[  6.4,   0. , 142.4, 478.4],\n",
       "        [196.8,   0. , 315.2, 478.4],\n",
       "        [332.8,   0. , 512. , 340.8]], dtype=float32),\n",
       " array([[ -9.6,   0. , 132.8, 478.4],\n",
       "        [176. ,   0. , 304. , 478.4],\n",
       "        [302.4,   0. , 515.2, 395.2]], dtype=float32),\n",
       " array([[ 20.8,   0. , 193.6, 478.4],\n",
       "        [140.8,   0. , 262.4, 478.4],\n",
       "        [248. ,   0. , 329.6, 478.4],\n",
       "        [316.8,   0. , 449.6, 478.4],\n",
       "        [384. ,   0. , 512. , 233.6]], dtype=float32),\n",
       " array([[-30.4,   0. , 153.6, 478.4],\n",
       "        [201.6,   0. , 283.2, 478.4],\n",
       "        [331.2,   0. , 515.2, 446.4]], dtype=float32),\n",
       " array([[-14.4,   0. , 171.2, 478.4],\n",
       "        [144. ,   0. , 251.2, 478.4],\n",
       "        [249.6,   0. , 385.6, 478.4],\n",
       "        [329.6,   0. , 518.4, 384. ]], dtype=float32),\n",
       " array([[  3.2,   0. , 224. , 478.4],\n",
       "        [220.8,   0. , 350.4, 478.4],\n",
       "        [300.8,   0. , 531.2, 336. ]], dtype=float32),\n",
       " array([[-43.2,   0. , 192. , 478.4],\n",
       "        [ 75.2,   0. , 244.8, 478.4],\n",
       "        [195.2,   0. , 297.6, 478.4],\n",
       "        [267.2,   0. , 406.4, 478.4],\n",
       "        [320. ,   0. , 523.2, 467.2]], dtype=float32),\n",
       " array([[-43.2,   0. , 209.6, 478.4],\n",
       "        [ 75.2,   0. , 251.2, 478.4],\n",
       "        [195.2,   0. , 294.4, 478.4],\n",
       "        [254.4,   0. , 419.2, 478.4],\n",
       "        [296. ,   0. , 529.6, 449.6]], dtype=float32),\n",
       " array([[  3.2,   0. , 238.4, 478.4],\n",
       "        [243.2,   0. , 334.4, 478.4],\n",
       "        [350.4,   0. , 524.8, 299.2]], dtype=float32),\n",
       " array([[-46.4,   0. , 246.4, 478.4],\n",
       "        [112. ,   0. , 302.4, 478.4],\n",
       "        [278.4,   0. , 376. , 478.4],\n",
       "        [334.4,   0. , 529.6, 451.2]], dtype=float32)]"
      ]
     },
     "execution_count": 70,
     "metadata": {},
     "output_type": "execute_result"
    }
   ],
   "source": [
    "bboxes"
   ]
  },
  {
   "cell_type": "code",
   "execution_count": 77,
   "metadata": {},
   "outputs": [
    {
     "data": {
      "text/plain": [
       "array([ 28.8,   0. , 185.6, 478.4], dtype=float32)"
      ]
     },
     "execution_count": 77,
     "metadata": {},
     "output_type": "execute_result"
    }
   ],
   "source": [
    "bboxes[0][0]"
   ]
  },
  {
   "cell_type": "code",
   "execution_count": 97,
   "metadata": {},
   "outputs": [],
   "source": [
    "a = np.array([bboxes[0][0][0], bboxes[0][0][3]])\n",
    "b = np.array([bboxes[0][0][0], bboxes[0][0][1]])\n",
    "c = np.array([bboxes[0][0][2], bboxes[0][0][3]])"
   ]
  },
  {
   "cell_type": "code",
   "execution_count": 98,
   "metadata": {},
   "outputs": [
    {
     "data": {
      "text/plain": [
       "28.8"
      ]
     },
     "execution_count": 98,
     "metadata": {},
     "output_type": "execute_result"
    }
   ],
   "source": [
    "bboxes[0][0][0]"
   ]
  },
  {
   "cell_type": "code",
   "execution_count": 103,
   "metadata": {},
   "outputs": [],
   "source": [
    "a = np.array([76,299])\n",
    "b = np.array([76,0])\n",
    "c = np.array([1,299])"
   ]
  },
  {
   "cell_type": "code",
   "execution_count": 105,
   "metadata": {},
   "outputs": [
    {
     "name": "stdout",
     "output_type": "stream",
     "text": [
      "[ 76 299] [76  0] [  1 299]\n"
     ]
    }
   ],
   "source": [
    "print(a,b,c)"
   ]
  },
  {
   "cell_type": "code",
   "execution_count": 120,
   "metadata": {},
   "outputs": [
    {
     "name": "stdout",
     "output_type": "stream",
     "text": [
      "[  0 299] [-75 299]\n",
      "()\n",
      "14.081322750137785\n"
     ]
    }
   ],
   "source": [
    "import numpy as np\n",
    "\n",
    "ba = a - b\n",
    "bc = c - b\n",
    "print(ba, bc)\n",
    "cosine_angle = np.dot(ba, bc) / (np.linalg.norm(ba) * np.linalg.norm(bc))\n",
    "print(cosine_angle.shape)\n",
    "angle = np.arccos(cosine_angle)\n",
    "\n",
    "print(np.degrees(angle))"
   ]
  },
  {
   "cell_type": "code",
   "execution_count": 132,
   "metadata": {},
   "outputs": [],
   "source": [
    "def get_angle(xmin,ymin,xmax,ymax):\n",
    "    a = np.array([xmin, ymax])\n",
    "    b = np.array([xmin, ymin])\n",
    "    c = np.array([xmax, ymax])\n",
    "    ba = a - b\n",
    "    bc = c - b\n",
    "    cosine_angle = np.dot(ba, bc) / (np.linalg.norm(ba) * np.linalg.norm(bc))\n",
    "    angle = np.arccos(cosine_angle)\n",
    "    if xmin > xmax:\n",
    "        return -np.degrees(angle)\n",
    "    else:\n",
    "        return np.degrees(angle)"
   ]
  },
  {
   "cell_type": "code",
   "execution_count": 133,
   "metadata": {},
   "outputs": [
    {
     "data": {
      "text/plain": [
       "-8.933261605966267"
      ]
     },
     "execution_count": 133,
     "metadata": {},
     "output_type": "execute_result"
    }
   ],
   "source": [
    "get_angle(57,0,10,299)"
   ]
  },
  {
   "cell_type": "code",
   "execution_count": null,
   "metadata": {},
   "outputs": [],
   "source": []
  }
 ],
 "metadata": {
  "kernelspec": {
   "display_name": "plant_row",
   "language": "python",
   "name": "python3"
  },
  "language_info": {
   "codemirror_mode": {
    "name": "ipython",
    "version": 3
   },
   "file_extension": ".py",
   "mimetype": "text/x-python",
   "name": "python",
   "nbconvert_exporter": "python",
   "pygments_lexer": "ipython3",
   "version": "3.12.1"
  }
 },
 "nbformat": 4,
 "nbformat_minor": 2
}
